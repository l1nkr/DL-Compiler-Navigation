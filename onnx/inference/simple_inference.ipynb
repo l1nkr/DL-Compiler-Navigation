import onnxruntime
import numpy as np
from onnxruntime.datasets import get_example


example_model = get_example("sigmoid.onnx")
sess = onnxruntime.InferenceSession(example_model)

input_name = sess.get_inputs()[0].name
input_shape = sess.get_inputs()[0].shape
input_type = sess.get_inputs()[0].type
print("Input name  :", input_name)
print("Input shape :", input_shape)
print("Input type  :", input_type)

output_name = sess.get_outputs()[0].name
output_shape = sess.get_outputs()[0].shape
output_type = sess.get_outputs()[0].type
print("Output name  :", output_name)  
print("Output shape :", output_shape)
print("Output type  :", output_type)

x = np.random.random(input_shape)
x = x.astype(np.float32)

result = sess.run([output_name], {input_name: x})

print(result)